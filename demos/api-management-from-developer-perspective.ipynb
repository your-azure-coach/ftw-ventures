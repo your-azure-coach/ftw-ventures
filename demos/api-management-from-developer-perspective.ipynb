{
 "cells": [
  {
   "cell_type": "markdown",
   "metadata": {},
   "source": [
    "## Azure API Management from a Developer Perspective"
   ]
  },
  {
   "cell_type": "markdown",
   "metadata": {},
   "source": [
    "### Preparation"
   ]
  },
  {
   "cell_type": "markdown",
   "metadata": {},
   "source": [
    "* Log into the right Azure subscription"
   ]
  },
  {
   "cell_type": "code",
   "execution_count": null,
   "metadata": {
    "dotnet_interactive": {
     "language": "pwsh"
    },
    "vscode": {
     "languageId": "dotnet-interactive.pwsh"
    }
   },
   "outputs": [],
   "source": [
    "az login --output none\n",
    "az account set --subscription 99da81c1-72ed-4a56-8c96-f360dbd22610 --output none"
   ]
  },
  {
   "cell_type": "markdown",
   "metadata": {},
   "source": [
    "* Create a copy of the Real Estate **Infra**"
   ]
  },
  {
   "cell_type": "code",
   "execution_count": null,
   "metadata": {
    "dotnet_interactive": {
     "language": "pwsh"
    },
    "vscode": {
     "languageId": "dotnet-interactive.pwsh"
    }
   },
   "outputs": [],
   "source": [
    "Write-Host \"Navigate to the infra\"\n",
    "cd ../infra/04_applications/real-estate-app\n",
    "Write-Host \"Create resource group\"\n",
    "az group create --name ftw-dem-real-estate-app-rg --location westeurope --output none\n",
    "Write-Host \"Deploy the infra\"\n",
    "./deploy.ps1 -EnvironmentName \"dem\" -EnvironmentKey \"dev\" -ApplyIpRetrictions \"false\"\n",
    "Write-Host \"Navigate back\"\n",
    "cd ../../../demos"
   ]
  },
  {
   "cell_type": "markdown",
   "metadata": {},
   "source": [
    "* Build and deploy the Real Estate **Sales App**"
   ]
  },
  {
   "cell_type": "code",
   "execution_count": null,
   "metadata": {
    "dotnet_interactive": {
     "language": "pwsh"
    },
    "vscode": {
     "languageId": "dotnet-interactive.pwsh"
    }
   },
   "outputs": [],
   "source": [
    "Write-Host \"Navigate to source\"\n",
    "cd ../src/real-estate-app/Ftw.RealEstate.Sales\n",
    "Write-Host \"Build Sales App\"\n",
    "dotnet restore\n",
    "dotnet build --configuration Release --no-restore\n",
    "dotnet publish --configuration Release --no-restore --output ./output\n",
    "Compress-Archive ./output/* ./output/app.zip -Update\n",
    "Write-Host \"Deploy Sales App\"\n",
    "az webapp deployment source config-zip --resource-group ftw-dem-real-estate-app-rg --name ftw-dem-real-estate-sales-wapp --src ./output/app.zip\n",
    "Write-Host \"Navigate back\"\n",
    "cd ../../../demos"
   ]
  },
  {
   "cell_type": "markdown",
   "metadata": {},
   "source": [
    "* Build and deploy the Real Estate **Rental App**"
   ]
  },
  {
   "cell_type": "code",
   "execution_count": null,
   "metadata": {
    "dotnet_interactive": {
     "language": "pwsh"
    },
    "vscode": {
     "languageId": "dotnet-interactive.pwsh"
    }
   },
   "outputs": [],
   "source": [
    "Write-Host \"Navigate to source\"\n",
    "cd ../src/real-estate-app/Ftw.RealEstate.Rental\n",
    "Write-Host \"Build Rental App\"\n",
    "dotnet restore\n",
    "dotnet build --configuration Release --no-restore\n",
    "dotnet publish --configuration Release --no-restore --output ./output\n",
    "Compress-Archive ./output/* ./output/app.zip -Update\n",
    "Write-Host \"Deploy Rental App\"\n",
    "az webapp deployment source config-zip --resource-group ftw-dem-real-estate-app-rg --name ftw-dem-real-estate-rental-wapp --src ./output/app.zip\n",
    "Write-Host \"Navigate back\"\n",
    "cd ../../../demos"
   ]
  },
  {
   "cell_type": "markdown",
   "metadata": {},
   "source": [
    "* Open the correct browser tabs"
   ]
  },
  {
   "cell_type": "code",
   "execution_count": null,
   "metadata": {
    "dotnet_interactive": {
     "language": "pwsh"
    },
    "vscode": {
     "languageId": "dotnet-interactive.pwsh"
    }
   },
   "outputs": [],
   "source": [
    "Write-Host \"Open the right browser tabs: started...\"\n",
    "start microsoft-edge:https://portal.azure.com/#@toonvanhouttegmail.onmicrosoft.com/resource/subscriptions/99da81c1-72ed-4a56-8c96-f360dbd22610/resourceGroups/ftw-dem-real-estate-app-rg/overview\n",
    "start microsoft-edge:https://ftw-dem-real-estate-sales-wapp.azurewebsites.net/swagger/index.html\n",
    "start microsoft-edge:https://ftw-dem-real-estate-rental-wapp.azurewebsites.net/graphql\n",
    "start microsoft-edge:https://portal.azure.com/#@toonvanhouttegmail.onmicrosoft.com/resource/subscriptions/99da81c1-72ed-4a56-8c96-f360dbd22610/resourceGroups/ftw-dev-shared-infrastructure-rg/providers/Microsoft.ApiManagement/service/ftw-dev-api-mgmt-apim/overview\n",
    "Write-Host \"Open the right browser tabs: started...\""
   ]
  },
  {
   "cell_type": "markdown",
   "metadata": {},
   "source": [
    "### It allows you to change implementation\n",
    "\n",
    "* Create a new Real Estate Demo API, named real-estate-demo-api\n",
    "\n",
    "* Create API from the Sales API Swagger spec: https://ftw-dem-real-estate-sales-wapp.azurewebsites.net/swagger/v1/swagger.json\n",
    "\n",
    "* Rename the API operations, by adding *for sale*\n",
    "\n",
    "* Show API settings\n",
    "\n",
    "* Disable the subscription key\n",
    "\n",
    "* Test the API in Postman"
   ]
  },
  {
   "cell_type": "markdown",
   "metadata": {},
   "source": [
    "### It allows you to mash-up new APIs\n",
    "\n",
    "* Create a new operation **Get rental apartments** with GET /rental/apartments\n",
    "\n",
    "* Test the API and receive a 404\n",
    "\n",
    "* Configure the following **inbound** policy\n",
    "\n",
    "```xml\n",
    "<!--Set URL of Rental API -->\n",
    "<set-backend-service base-url=\"https://ftw-dem-real-estate-rental-wapp.azurewebsites.net/graphql\" />\n",
    "```\n",
    "\n",
    "* Test the API and receive a 400\n",
    "\n",
    "* Extend the **inbound** policy\n",
    "\n",
    "```xml\n",
    "<!--Transform HTTP Request into GraphQL Query-->\n",
    "<set-method>POST</set-method>\n",
    "<rewrite-uri template=\"/\" copy-unmatched-params=\"false\" />\n",
    "<set-header name=\"Content-Type\" exists-action=\"override\">\n",
    "    <value>application/json</value>\n",
    "</set-header>\n",
    "<set-body template=\"none\">{\n",
    "    \"query\": \"query getAllApartments{ apartments { city description price hasBalcony } }\"\n",
    "}</set-body>\n",
    "```\n",
    "\n",
    "* Test the API and receive data response\n",
    "\n",
    "* Configure the following **outbound** policy\n",
    "\n",
    "```xml\n",
    "<!--Transform HTTP Response to only return the apartments array-->\n",
    "<set-body template=\"none\">@(context.Response.Body.As<JObject>().SelectToken(\"data.apartments\").ToString())</set-body>\n",
    "```\n",
    "\n",
    "* Test the API and receive desired response"
   ]
  },
  {
   "cell_type": "markdown",
   "metadata": {},
   "source": [
    "### It allows you to mock API endpoints\n",
    "\n",
    "* Show the mock file on the storage account\n",
    "\n",
    "* Create a new operation **Get rental houses** with GET /rental/houses\n",
    "\n",
    "* Configure the following **inbound** policy\n",
    "\n",
    "```xml\n",
    "<!--Transform request to query Blob Storage-->\n",
    "<set-method>GET</set-method>\n",
    "<set-backend-service base-url=\"https://ftwdemrealestatest.blob.core.windows.net/mocking\" />\n",
    "<rewrite-uri template=\"/rental-houses.json\" copy-unmatched-params=\"false\" />\n",
    "```\n",
    "\n",
    "* Test API and receive 404\n",
    "\n",
    "* Extend the **inbound** policy\n",
    "\n",
    "```xml\n",
    "<!--Configure authentication required for Blob Storage-->\n",
    "<set-header name=\"x-ms-version\" exists-action=\"override\">\n",
    "    <value>2017-11-09</value>\n",
    "</set-header>\n",
    "<authentication-managed-identity resource=\"https://storage.azure.com\" />\n",
    "```\n",
    "\n",
    "* Test the API and receive a non-JSON response\n",
    "\n",
    "* Configure the following **outbound** policy\n",
    "\n",
    "```xml\n",
    "<!--Transform HTTP Response to application/json-->\n",
    "<set-header name=\"Content-Type\" exists-action=\"override\">\n",
    "    <value>application/json</value>\n",
    "</set-header>\n",
    "```\n",
    "\n",
    "* Test the API and receive a JSON response"
   ]
  },
  {
   "cell_type": "markdown",
   "metadata": {},
   "source": [
    "### It allows you to have end-to-end traceability\n",
    "\n",
    "* Configure an App Insights Logger that points to the Real Estate instance\n",
    "\n",
    "* Enable it on the Demo API\n",
    "\n",
    "* Do a call and copy already a Request Id\n",
    "\n",
    "* Show *Live Metrics*\n",
    "\n",
    "* Search transaction with *Request Id*"
   ]
  },
  {
   "cell_type": "markdown",
   "metadata": {},
   "source": [
    "### It allows you to harden your security\n",
    "\n",
    "* Add IP restriction on the Web Apps\n",
    "\n",
    "* Try system API and receive *Forbidden*\n",
    "\n",
    "* Show the real API and the JWT Validation\n",
    "\n",
    "* Try Demo API and receive *Unauthorized*"
   ]
  },
  {
   "cell_type": "markdown",
   "metadata": {},
   "source": [
    "### It allows you to get broader adoption\n",
    "\n",
    "* Log into Developer Portal in private mode (demo@yourazurecoach.com)\n",
    "\n",
    "* Navigate to the real estate API\n",
    "\n",
    "* Show JWT Token\n",
    "\n",
    "* Try GET API, receive *OK*\n",
    "\n",
    "* Try POST API, receive *Unauthorized*"
   ]
  },
  {
   "cell_type": "markdown",
   "metadata": {},
   "source": [
    "### One more thing: security + monitoring\n",
    "\n",
    "* Call the Hotels API via Postman\n",
    "\n",
    "* Get Ftw-Request-Id and look into the logging\n",
    "\n",
    "* Rename the capacity field and enable the *Remove stacktraces* via the named values\n",
    "\n",
    "* See the exception message you get"
   ]
  },
  {
   "cell_type": "markdown",
   "metadata": {},
   "source": [
    "TO Improve:\n",
    "* Real end-to-end tracing with SQL Database?\n",
    "* Create API Management Dashboard based on Log Analytics\n",
    "* Fix the Developer Portal navigation\n",
    "* Automatically blob reader/writer access on storage account"
   ]
  }
 ],
 "metadata": {
  "kernelspec": {
   "display_name": ".NET (PowerShell)",
   "language": "PowerShell",
   "name": ".net-pwsh"
  },
  "language_info": {
   "name": "PowerShell"
  }
 },
 "nbformat": 4,
 "nbformat_minor": 2
}
